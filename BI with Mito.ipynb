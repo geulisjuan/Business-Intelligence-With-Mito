{
 "cells": [
  {
   "cell_type": "code",
   "execution_count": 2,
   "id": "c0957234-ba57-4199-adfa-9d17ede0b8f9",
   "metadata": {
    "scrolled": false
   },
   "outputs": [
    {
     "data": {
      "application/vnd.jupyter.widget-view+json": {
       "model_id": "54ae39b67ac04ca78a3ebb61ec6ef277",
       "version_major": 2,
       "version_minor": 0
      },
      "text/plain": [
       "MitoWidget(analysis_data_json='{\"analysisName\": \"id-jpzqfmblwn\", \"analysisToReplay\": {\"analysisName\": \"id-nmib…"
      ]
     },
     "metadata": {},
     "output_type": "display_data"
    }
   ],
   "source": [
    "# Run this cell to render a mitosheet\n",
    "# See mito's documentation here: https://docs.trymito.io/how-to/creating-a-mitosheet\n",
    "# Join our Discord for support here: https://discord.gg/XdJSZyejJU\n",
    "\n",
    "import mitosheet\n",
    "mitosheet.sheet(analysis_to_replay=\"id-nmibyriyqv\")"
   ]
  },
  {
   "cell_type": "code",
   "execution_count": 3,
   "id": "e2cef84e",
   "metadata": {},
   "outputs": [],
   "source": [
    "from mitosheet import *; register_analysis(\"id-nmibyriyqv\");\n",
    "    \n",
    "# Imported Product, Category, Supplier from C:\\Product.xlsx\n",
    "import pandas as pd\n",
    "sheet_df_dictonary = pd.read_excel(r'C:\\Product.xlsx', engine='openpyxl', sheet_name=['Product', 'Category', 'Supplier'], skiprows=4)\n",
    "Product = sheet_df_dictonary['Product']\n",
    "Category = sheet_df_dictonary['Category']\n",
    "Supplier = sheet_df_dictonary['Supplier']\n",
    "\n",
    "# Imported Product, Category, Supplier from C:\\Product.xlsx\n",
    "import pandas as pd\n",
    "sheet_df_dictonary = pd.read_excel(r'C:\\Product.xlsx', engine='openpyxl', sheet_name=['Product', 'Category', 'Supplier'], skiprows=4)\n",
    "Product_1 = sheet_df_dictonary['Product']\n",
    "Category_1 = sheet_df_dictonary['Category']\n",
    "Supplier_1 = sheet_df_dictonary['Supplier']\n",
    "\n",
    "# Imported Product, Category, Supplier from C:\\Product.xlsx\n",
    "import pandas as pd\n",
    "sheet_df_dictonary = pd.read_excel(r'C:\\Product.xlsx', engine='openpyxl', sheet_name=['Product', 'Category', 'Supplier'], skiprows=3)\n",
    "Product_2 = sheet_df_dictonary['Product']\n",
    "Category_2 = sheet_df_dictonary['Category']\n",
    "Supplier_2 = sheet_df_dictonary['Supplier']\n",
    "\n",
    "# Imported Product, Category, Supplier from C:\\Product.xlsx\n",
    "import pandas as pd\n",
    "sheet_df_dictonary = pd.read_excel(r'C:\\Product.xlsx', engine='openpyxl', sheet_name=['Product', 'Category', 'Supplier'], skiprows=None)\n",
    "Product_3 = sheet_df_dictonary['Product']\n",
    "Category_3 = sheet_df_dictonary['Category']\n",
    "Supplier_3 = sheet_df_dictonary['Supplier']\n",
    "\n",
    "# Imported Product, Category, Supplier from C:\\Product.xlsx\n",
    "import pandas as pd\n",
    "sheet_df_dictonary = pd.read_excel(r'C:\\Product.xlsx', engine='openpyxl', sheet_name=['Product', 'Category', 'Supplier'], skiprows=0)\n",
    "Product = sheet_df_dictonary['Product']\n",
    "Category = sheet_df_dictonary['Category']\n",
    "Supplier = sheet_df_dictonary['Supplier']\n",
    "\n",
    "# Imported Product, Category, Supplier from C:\\Product.xlsx\n",
    "import pandas as pd\n",
    "sheet_df_dictonary = pd.read_excel(r'C:\\Product.xlsx', engine='openpyxl', sheet_name=['Product', 'Category', 'Supplier'], skiprows=0)\n",
    "Product_1 = sheet_df_dictonary['Product']\n",
    "Category_1 = sheet_df_dictonary['Category']\n",
    "Supplier_1 = sheet_df_dictonary['Supplier']\n",
    "\n",
    "# Pivoted into Product\n",
    "tmp_df = Product[['CategoryID']]\n",
    "pivot_table = tmp_df.pivot_table(\n",
    "    index=['CategoryID'],\n",
    "    values=['CategoryID'],\n",
    "    aggfunc={'CategoryID': ['count']}\n",
    ")\n",
    "pivot_table.set_axis([flatten_column_header(col) for col in pivot_table.keys()], axis=1, inplace=True)\n",
    "Product_pivot = pivot_table.reset_index()\n",
    "\n",
    "# Pivoted into Product\n",
    "tmp_df = Product[['QuantityPerUnit', 'CategoryID']]\n",
    "pivot_table = tmp_df.pivot_table(\n",
    "    index=['CategoryID', 'QuantityPerUnit'],\n",
    "    values=['CategoryID'],\n",
    "    aggfunc={'CategoryID': ['count']}\n",
    ")\n",
    "pivot_table.set_axis([flatten_column_header(col) for col in pivot_table.keys()], axis=1, inplace=True)\n",
    "Product_pivot = pivot_table.reset_index()\n"
   ]
  },
  {
   "cell_type": "code",
   "execution_count": 6,
   "id": "bd7ed744",
   "metadata": {},
   "outputs": [
    {
     "data": {
      "application/vnd.jupyter.widget-view+json": {
       "model_id": "ecd46e82d6484d2d93e98a192a94d0ad",
       "version_major": 2,
       "version_minor": 0
      },
      "text/plain": [
       "MitoWidget(analysis_data_json='{\"analysisName\": \"id-esposthidk\", \"analysisToReplay\": {\"analysisName\": \"id-nnmj…"
      ]
     },
     "metadata": {},
     "output_type": "display_data"
    }
   ],
   "source": [
    "import mitosheet\n",
    "mitosheet.sheet(analysis_to_replay=\"id-nnmjaopfzo\")"
   ]
  },
  {
   "cell_type": "code",
   "execution_count": 4,
   "id": "97d60fa1",
   "metadata": {},
   "outputs": [],
   "source": [
    "from mitosheet import *; register_analysis(\"id-nnmjaopfzo\");\n",
    "    \n",
    "# Imported Product, Category, Supplier from C:\\Product.xlsx\n",
    "import pandas as pd\n",
    "sheet_df_dictonary = pd.read_excel(r'C:\\Product.xlsx', engine='openpyxl', sheet_name=['Product', 'Category', 'Supplier'], skiprows=0)\n",
    "Product = sheet_df_dictonary['Product']\n",
    "Category = sheet_df_dictonary['Category']\n",
    "Supplier = sheet_df_dictonary['Supplier']\n",
    "\n",
    "# Sorted CategoryID in ascending order\n",
    "Product = Product.sort_values(by='CategoryID', ascending=True, na_position='first')\n",
    "\n",
    "# Sorted CategoryID in ascending order\n",
    "Product = Product.sort_values(by='CategoryID', ascending=True, na_position='first')\n",
    "\n",
    "# Sorted CategoryID in ascending order\n",
    "Product = Product.sort_values(by='CategoryID', ascending=True, na_position='first')\n",
    "\n",
    "# Sorted SupplierID in ascending order\n",
    "Product = Product.sort_values(by='SupplierID', ascending=True, na_position='first')\n",
    "\n",
    "# Sorted SupplierID in ascending order\n",
    "Product = Product.sort_values(by='SupplierID', ascending=True, na_position='first')\n"
   ]
  },
  {
   "cell_type": "code",
   "execution_count": 10,
   "id": "77a3b89f",
   "metadata": {},
   "outputs": [
    {
     "data": {
      "application/vnd.jupyter.widget-view+json": {
       "model_id": "db2a9ef2deb0468c8749555c4fd2e48a",
       "version_major": 2,
       "version_minor": 0
      },
      "text/plain": [
       "MitoWidget(analysis_data_json='{\"analysisName\": \"id-qozazfzxoq\", \"analysisToReplay\": {\"analysisName\": \"id-dofu…"
      ]
     },
     "metadata": {},
     "output_type": "display_data"
    }
   ],
   "source": [
    "import mitosheet\n",
    "mitosheet.sheet(analysis_to_replay=\"id-dofustmwqb\")"
   ]
  },
  {
   "cell_type": "code",
   "execution_count": null,
   "id": "16d74184",
   "metadata": {},
   "outputs": [],
   "source": [
    "from mitosheet import *; register_analysis(\"id-dofustmwqb\");\n",
    "    \n",
    "# Imported Product, Category, Supplier from C:\\Product.xlsx\n",
    "import pandas as pd\n",
    "sheet_df_dictonary = pd.read_excel(r'C:\\Product.xlsx', engine='openpyxl', sheet_name=['Product', 'Category', 'Supplier'], skiprows=0)\n",
    "Product = sheet_df_dictonary['Product']\n",
    "Category = sheet_df_dictonary['Category']\n",
    "Supplier = sheet_df_dictonary['Supplier']\n",
    "\n",
    "# Pivoted into Product\n",
    "tmp_df = Product[['CategoryID']]\n",
    "pivot_table = tmp_df.pivot_table(\n",
    "    index=['CategoryID'],\n",
    "    values=['CategoryID'],\n",
    "    aggfunc={'CategoryID': ['count']}\n",
    ")\n",
    "pivot_table.set_axis([flatten_column_header(col) for col in pivot_table.keys()], axis=1, inplace=True)\n",
    "Product_pivot = pivot_table.reset_index()\n",
    "\n",
    "# Filtered CategoryID\n",
    "Product = Product[Product['CategoryID'].str.contains('CAT001', na=False)]\n",
    "\n",
    "# Sorted CategoryID in ascending order\n",
    "Product = Product.sort_values(by='CategoryID', ascending=True, na_position='first')\n"
   ]
  },
  {
   "cell_type": "code",
   "execution_count": 11,
   "id": "b0ead9d7",
   "metadata": {},
   "outputs": [
    {
     "data": {
      "application/vnd.jupyter.widget-view+json": {
       "model_id": "988e9b8b94ec46278cb97ac50186b8d3",
       "version_major": 2,
       "version_minor": 0
      },
      "text/plain": [
       "MitoWidget(analysis_data_json='{\"analysisName\": \"id-wesrbipwnq\", \"analysisToReplay\": {\"analysisName\": \"id-sjwa…"
      ]
     },
     "metadata": {},
     "output_type": "display_data"
    }
   ],
   "source": [
    "import mitosheet\n",
    "mitosheet.sheet(analysis_to_replay=\"id-sjwayiixhf\")"
   ]
  },
  {
   "cell_type": "code",
   "execution_count": null,
   "id": "526b8e67",
   "metadata": {},
   "outputs": [],
   "source": [
    "from mitosheet import *; register_analysis(\"id-sjwayiixhf\");\n",
    "    \n",
    "# Imported SalesPerson from C:\\SalesPerson.xlsx\n",
    "import pandas as pd\n",
    "sheet_df_dictonary = pd.read_excel(r'C:\\SalesPerson.xlsx', engine='openpyxl', sheet_name=['SalesPerson'], skiprows=4)\n",
    "SalesPerson = sheet_df_dictonary['SalesPerson']\n",
    "\n",
    "# Imported Product, Category, Supplier from C:\\Product.xlsx\n",
    "import pandas as pd\n",
    "sheet_df_dictonary = pd.read_excel(r'C:\\Product.xlsx', engine='openpyxl', sheet_name=['Product', 'Category', 'Supplier'], skiprows=0)\n",
    "Product = sheet_df_dictonary['Product']\n",
    "Category = sheet_df_dictonary['Category']\n",
    "Supplier = sheet_df_dictonary['Supplier']\n",
    "\n",
    "# Merged Supplier and Product into df5\n",
    "temp_df = Product.drop_duplicates(subset=['SupplierID']) # Remove duplicates so lookup merge only returns first match\n",
    "df5 = Supplier.merge(temp_df, left_on=['SupplierID'], right_on=['SupplierID'], how='left', suffixes=['_Supplier', '_Product'])\n",
    "\n",
    "# Unpivoted df5 into df5_unpivoted\n",
    "df5_unpivoted = df5.melt(id_vars=[])\n",
    "\n",
    "# Merged Product and Category into df5\n",
    "temp_df = Category.drop_duplicates(subset=['CategoryID']) # Remove duplicates so lookup merge only returns first match\n",
    "df5 = Product.merge(temp_df, left_on=['CategoryID'], right_on=['CategoryID'], how='left', suffixes=['_Product', '_Category'])\n"
   ]
  }
 ],
 "metadata": {
  "kernelspec": {
   "display_name": "Python 3 (ipykernel)",
   "language": "python",
   "name": "python3"
  },
  "language_info": {
   "codemirror_mode": {
    "name": "ipython",
    "version": 3
   },
   "file_extension": ".py",
   "mimetype": "text/x-python",
   "name": "python",
   "nbconvert_exporter": "python",
   "pygments_lexer": "ipython3",
   "version": "3.9.7"
  },
  "widgets": {
   "application/vnd.jupyter.widget-state+json": {
    "state": {},
    "version_major": 2,
    "version_minor": 0
   }
  }
 },
 "nbformat": 4,
 "nbformat_minor": 5
}
